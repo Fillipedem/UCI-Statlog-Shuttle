{
 "cells": [
  {
   "cell_type": "code",
   "execution_count": 2,
   "metadata": {},
   "outputs": [],
   "source": [
    "import numpy as np\n",
    "import pandas as pd\n",
    "\n",
    "# scale\n",
    "from sklearn.preprocessing import StandardScaler\n",
    "\n",
    "# model selectiion\n",
    "from sklearn.model_selection import StratifiedKFold, cross_val_score\n",
    "\n",
    "# rf\n",
    "from sklearn.ensemble import RandomForestClassifier\n",
    "# mlp\n",
    "from sklearn.neural_network import MLPClassifier\n",
    "\n",
    "# metrics\n",
    "from sklearn.metrics import accuracy_score, classification_report\n",
    "\n",
    "# load/save models\n",
    "from sklearn.externals import joblib\n",
    "\n",
    "# signed wilcoxon test\n",
    "from scipy.stats import wilcoxon"
   ]
  },
  {
   "cell_type": "code",
   "execution_count": 4,
   "metadata": {},
   "outputs": [],
   "source": [
    "# plot\n",
    "import matplotlib.pyplot as plt\n",
    "import seaborn as sns\n",
    "\n",
    "plt.rcParams['figure.figsize'] = [15, 10]\n",
    "plt.rcParams.update({'font.size': 22})\n",
    "fontdict = {'fontsize': 18,\n",
    "           'weight' : 'bold'}\n",
    "palette = palette=['green','orange','brown','blue', 'red', 'black', 'yellow']\n",
    "sns.set()"
   ]
  },
  {
   "cell_type": "markdown",
   "metadata": {},
   "source": [
    "### load data"
   ]
  },
  {
   "cell_type": "code",
   "execution_count": 5,
   "metadata": {},
   "outputs": [],
   "source": [
    "# save Scaler\n",
    "scaler = joblib.load('./data/preprocessamento/zscaler.pkl') \n",
    "\n",
    "# save models\n",
    "X_ros = np.genfromtxt('./data/preprocessamento/X_rox', delimiter=' ')\n",
    "y_ros = np.genfromtxt('./data/preprocessamento/y_rox', delimiter=' ')\n",
    "\n",
    "X_smt = np.genfromtxt('./data/preprocessamento/X_smt', delimiter=' ')\n",
    "y_smt = np.genfromtxt('./data/preprocessamento/y_smt', delimiter=' ')\n",
    "\n",
    "### test data\n",
    "X_test = pd.read_csv('./data/preprocessamento/X_test', header=None, sep=' ')\n",
    "y_test = pd.read_csv('./data/preprocessamento/y_test', header=None, sep=' ')"
   ]
  },
  {
   "cell_type": "markdown",
   "metadata": {},
   "source": [
    "### Gerando as medias"
   ]
  },
  {
   "cell_type": "code",
   "execution_count": 11,
   "metadata": {
    "scrolled": true
   },
   "outputs": [
    {
     "name": "stdout",
     "output_type": "stream",
     "text": [
      "Conjunto:  0\n",
      "{'mlp': [], 'rf': []}\n",
      "RF\n",
      "MLP\n",
      "{'mlp': [0.9996481699894757], 'rf': [0.9999790568894322]}\n",
      "Conjunto:  1\n",
      "{'mlp': [0.9996481699894757], 'rf': [0.9999790568894322]}\n",
      "RF\n",
      "MLP\n",
      "{'mlp': [0.9996481699894757, 0.9997570724449607], 'rf': [0.9999790568894322, 0.9999916237383257]}\n",
      "Conjunto:  2\n",
      "{'mlp': [0.9996481699894757, 0.9997570724449607], 'rf': [0.9999790568894322, 0.9999916237383257]}\n",
      "RF\n",
      "MLP\n",
      "{'mlp': [0.9996481699894757, 0.9997570724449607, 0.9996649274255878], 'rf': [0.9999790568894322, 0.9999916237383257, 0.999979059345814]}\n",
      "Conjunto:  3\n",
      "{'mlp': [0.9996481699894757, 0.9997570724449607, 0.9996649274255878], 'rf': [0.9999790568894322, 0.9999916237383257, 0.999979059345814]}\n",
      "RF\n",
      "MLP\n",
      "{'mlp': [0.9996481699894757, 0.9997570724449607, 0.9996649274255878, 0.9997277481599551], 'rf': [0.9999790568894322, 0.9999916237383257, 0.999979059345814, 0.9999623043660835]}\n",
      "Conjunto:  4\n",
      "{'mlp': [0.9996481699894757, 0.9997570724449607, 0.9996649274255878, 0.9997277481599551], 'rf': [0.9999790568894322, 0.9999916237383257, 0.999979059345814, 0.9999623043660835]}\n",
      "RF\n",
      "MLP\n",
      "{'mlp': [0.9996481699894757, 0.9997570724449607, 0.9996649274255878, 0.9997277481599551, 0.9997612716295159], 'rf': [0.9999790568894322, 0.9999916237383257, 0.999979059345814, 0.9999623043660835, 0.9999706830841395]}\n",
      "Conjunto:  5\n",
      "{'mlp': [0.9996481699894757, 0.9997570724449607, 0.9996649274255878, 0.9997277481599551, 0.9997612716295159], 'rf': [0.9999790568894322, 0.9999916237383257, 0.999979059345814, 0.9999623043660835, 0.9999706830841395]}\n",
      "RF\n",
      "MLP\n",
      "{'mlp': [0.9996481699894757, 0.9997570724449607, 0.9996649274255878, 0.9997277481599551, 0.9997612716295159, 0.9997151935929705], 'rf': [0.9999790568894322, 0.9999916237383257, 0.999979059345814, 0.9999623043660835, 0.9999706830841395, 0.999979059345814]}\n",
      "Conjunto:  6\n",
      "{'mlp': [0.9996481699894757, 0.9997570724449607, 0.9996649274255878, 0.9997277481599551, 0.9997612716295159, 0.9997151935929705], 'rf': [0.9999790568894322, 0.9999916237383257, 0.999979059345814, 0.9999623043660835, 0.9999706830841395, 0.999979059345814]}\n",
      "RF\n",
      "MLP\n",
      "{'mlp': [0.9996481699894757, 0.9997570724449607, 0.9996649274255878, 0.9997277481599551, 0.9997612716295159, 0.9997151935929705, 0.999736129334393], 'rf': [0.9999790568894322, 0.9999916237383257, 0.999979059345814, 0.9999623043660835, 0.9999706830841395, 0.999979059345814, 0.9999832474766512]}\n",
      "Conjunto:  7\n",
      "{'mlp': [0.9996481699894757, 0.9997570724449607, 0.9996649274255878, 0.9997277481599551, 0.9997612716295159, 0.9997151935929705, 0.999736129334393], 'rf': [0.9999790568894322, 0.9999916237383257, 0.999979059345814, 0.9999623043660835, 0.9999706830841395, 0.999979059345814, 0.9999832474766512]}\n",
      "RF\n",
      "MLP\n",
      "{'mlp': [0.9996481699894757, 0.9997570724449607, 0.9996649274255878, 0.9997277481599551, 0.9997612716295159, 0.9997151935929705, 0.999736129334393, 0.9996984373850489], 'rf': [0.9999790568894322, 0.9999916237383257, 0.999979059345814, 0.9999623043660835, 0.9999706830841395, 0.999979059345814, 0.9999832474766512, 0.999979059345814]}\n",
      "Conjunto:  8\n",
      "{'mlp': [0.9996481699894757, 0.9997570724449607, 0.9996649274255878, 0.9997277481599551, 0.9997612716295159, 0.9997151935929705, 0.999736129334393, 0.9996984373850489], 'rf': [0.9999790568894322, 0.9999916237383257, 0.999979059345814, 0.9999623043660835, 0.9999706830841395, 0.999979059345814, 0.9999832474766512, 0.999979059345814]}\n",
      "RF\n",
      "MLP\n",
      "{'mlp': [0.9996481699894757, 0.9997570724449607, 0.9996649274255878, 0.9997277481599551, 0.9997612716295159, 0.9997151935929705, 0.999736129334393, 0.9996984373850489, 0.9997654462502534], 'rf': [0.9999790568894322, 0.9999916237383257, 0.999979059345814, 0.9999623043660835, 0.9999706830841395, 0.999979059345814, 0.9999832474766512, 0.999979059345814, 0.9999664912687297]}\n",
      "Conjunto:  9\n",
      "{'mlp': [0.9996481699894757, 0.9997570724449607, 0.9996649274255878, 0.9997277481599551, 0.9997612716295159, 0.9997151935929705, 0.999736129334393, 0.9996984373850489, 0.9997654462502534], 'rf': [0.9999790568894322, 0.9999916237383257, 0.999979059345814, 0.9999623043660835, 0.9999706830841395, 0.999979059345814, 0.9999832474766512, 0.999979059345814, 0.9999664912687297]}\n",
      "RF\n",
      "MLP\n",
      "{'mlp': [0.9996481699894757, 0.9997570724449607, 0.9996649274255878, 0.9997277481599551, 0.9997612716295159, 0.9997151935929705, 0.999736129334393, 0.9996984373850489, 0.9997654462502534, 0.9997570712167698], 'rf': [0.9999790568894322, 0.9999916237383257, 0.999979059345814, 0.9999623043660835, 0.9999706830841395, 0.999979059345814, 0.9999832474766512, 0.999979059345814, 0.9999664912687297, 0.9999874343792975]}\n"
     ]
    }
   ],
   "source": [
    "means = {'mlp': [], 'rf': []}\n",
    "X_train_scl, X_test_scl = scaler.transform(X_ros), scaler.transform(X_test)\n",
    "\n",
    "for i in range(10):\n",
    "    print(\"Conjunto: \", i)\n",
    "    print(means)\n",
    "    # clfs\n",
    "    mlp = MLPClassifier(activation='relu', solver='adam', early_stopping=True, \n",
    "                        max_iter=200, batch_size=16, validation_fraction=0.1,\n",
    "                        hidden_layer_sizes=(100))\n",
    "    rf = RandomForestClassifier(n_estimators=10 , criterion='gini')\n",
    "    # kfold\n",
    "    random_state = np.random.randint(2000)\n",
    "    kfold = StratifiedKFold(n_splits=10, shuffle=True, random_state=random_state)\n",
    "    \n",
    "    print('RF')\n",
    "    means['rf'].append(cross_val_score(rf, X_train_scl, y_ros, cv=kfold).mean())\n",
    "    print('MLP')\n",
    "    means['mlp'].append(cross_val_score(mlp, X_ros, y_ros, cv=kfold, n_jobs=2).mean())\n",
    "    print(means)"
   ]
  },
  {
   "cell_type": "markdown",
   "metadata": {},
   "source": [
    "### Wilcoxon Test"
   ]
  },
  {
   "cell_type": "code",
   "execution_count": 12,
   "metadata": {},
   "outputs": [
    {
     "data": {
      "text/plain": [
       "WilcoxonResult(statistic=0.0, pvalue=0.005062032126267864)"
      ]
     },
     "execution_count": 12,
     "metadata": {},
     "output_type": "execute_result"
    }
   ],
   "source": [
    "wilcoxon(means['mlp'], means['rf'])"
   ]
  },
  {
   "cell_type": "markdown",
   "metadata": {},
   "source": [
    "### Acuracia - Boxplot"
   ]
  },
  {
   "cell_type": "code",
   "execution_count": 58,
   "metadata": {
    "scrolled": true
   },
   "outputs": [
    {
     "data": {
      "text/html": [
       "<div>\n",
       "<style scoped>\n",
       "    .dataframe tbody tr th:only-of-type {\n",
       "        vertical-align: middle;\n",
       "    }\n",
       "\n",
       "    .dataframe tbody tr th {\n",
       "        vertical-align: top;\n",
       "    }\n",
       "\n",
       "    .dataframe thead th {\n",
       "        text-align: right;\n",
       "    }\n",
       "</style>\n",
       "<table border=\"1\" class=\"dataframe\">\n",
       "  <thead>\n",
       "    <tr style=\"text-align: right;\">\n",
       "      <th></th>\n",
       "      <th>MLP</th>\n",
       "      <th>Random Forest</th>\n",
       "    </tr>\n",
       "  </thead>\n",
       "  <tbody>\n",
       "    <tr>\n",
       "      <th>0</th>\n",
       "      <td>0.999648</td>\n",
       "      <td>0.999979</td>\n",
       "    </tr>\n",
       "    <tr>\n",
       "      <th>1</th>\n",
       "      <td>0.999757</td>\n",
       "      <td>0.999992</td>\n",
       "    </tr>\n",
       "    <tr>\n",
       "      <th>2</th>\n",
       "      <td>0.999665</td>\n",
       "      <td>0.999979</td>\n",
       "    </tr>\n",
       "    <tr>\n",
       "      <th>3</th>\n",
       "      <td>0.999728</td>\n",
       "      <td>0.999962</td>\n",
       "    </tr>\n",
       "    <tr>\n",
       "      <th>4</th>\n",
       "      <td>0.999761</td>\n",
       "      <td>0.999971</td>\n",
       "    </tr>\n",
       "    <tr>\n",
       "      <th>5</th>\n",
       "      <td>0.999715</td>\n",
       "      <td>0.999979</td>\n",
       "    </tr>\n",
       "    <tr>\n",
       "      <th>6</th>\n",
       "      <td>0.999736</td>\n",
       "      <td>0.999983</td>\n",
       "    </tr>\n",
       "    <tr>\n",
       "      <th>7</th>\n",
       "      <td>0.999698</td>\n",
       "      <td>0.999979</td>\n",
       "    </tr>\n",
       "    <tr>\n",
       "      <th>8</th>\n",
       "      <td>0.999765</td>\n",
       "      <td>0.999966</td>\n",
       "    </tr>\n",
       "    <tr>\n",
       "      <th>9</th>\n",
       "      <td>0.999757</td>\n",
       "      <td>0.999987</td>\n",
       "    </tr>\n",
       "  </tbody>\n",
       "</table>\n",
       "</div>"
      ],
      "text/plain": [
       "        MLP  Random Forest\n",
       "0  0.999648       0.999979\n",
       "1  0.999757       0.999992\n",
       "2  0.999665       0.999979\n",
       "3  0.999728       0.999962\n",
       "4  0.999761       0.999971\n",
       "5  0.999715       0.999979\n",
       "6  0.999736       0.999983\n",
       "7  0.999698       0.999979\n",
       "8  0.999765       0.999966\n",
       "9  0.999757       0.999987"
      ]
     },
     "execution_count": 58,
     "metadata": {},
     "output_type": "execute_result"
    }
   ],
   "source": [
    "bp = pd.DataFrame([means['mlp'], means['rf']]).T\n",
    "bp = bp.rename({0: 'MLP', 1: 'Random Forest'}, axis=1)\n",
    "bp"
   ]
  },
  {
   "cell_type": "code",
   "execution_count": 61,
   "metadata": {},
   "outputs": [
    {
     "data": {
      "image/png": "[encoded data removed]",
      "text/plain": [
       "<Figure size 1080x720 with 1 Axes>"
      ]
     },
     "metadata": {},
     "output_type": "display_data"
    }
   ],
   "source": [
    "g = sns.boxplot(data=bp)\n",
    "g.set_title('Acuracia - Modelos', fontdict=fontdict);"
   ]
  },
  {
   "cell_type": "code",
   "execution_count": null,
   "metadata": {},
   "outputs": [],
   "source": []
  }
 ],
 "metadata": {
  "kernelspec": {
   "display_name": "Python 3",
   "language": "python",
   "name": "python3"
  },
  "language_info": {
   "codemirror_mode": {
    "name": "ipython",
    "version": 3
   },
   "file_extension": ".py",
   "mimetype": "text/x-python",
   "name": "python",
   "nbconvert_exporter": "python",
   "pygments_lexer": "ipython3",
   "version": "3.6.8"
  }
 },
 "nbformat": 4,
 "nbformat_minor": 2
}
