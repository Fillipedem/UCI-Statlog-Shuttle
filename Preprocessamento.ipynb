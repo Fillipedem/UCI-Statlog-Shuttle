{
 "cells": [
  {
   "cell_type": "markdown",
   "metadata": {},
   "source": [
    "## Preprocessamento"
   ]
  },
  {
   "cell_type": "code",
   "execution_count": 39,
   "metadata": {},
   "outputs": [],
   "source": [
    "import numpy as np\n",
    "import pandas as pd\n",
    "\n",
    "# zscore / remoção de outliers\n",
    "from scipy import stats\n",
    "\n",
    "# scale\n",
    "from sklearn.preprocessing import StandardScaler\n",
    "\n",
    "# random oversampling\n",
    "from imblearn.over_sampling import RandomOverSampler, SMOTE\n",
    "\n",
    "# test\n",
    "from sklearn.ensemble import RandomForestClassifier\n",
    "from sklearn.metrics import accuracy_score, classification_report\n",
    "\n",
    "# save models\n",
    "from sklearn.externals import joblib "
   ]
  },
  {
   "cell_type": "markdown",
   "metadata": {},
   "source": [
    "### Load Data"
   ]
  },
  {
   "cell_type": "code",
   "execution_count": 10,
   "metadata": {},
   "outputs": [],
   "source": [
    "df_train = pd.read_csv(\"./data/shuttle.trn\", delimiter=' ', header=None)\n",
    "df_test = pd.read_csv(\"./data/shuttle.tst\", delimiter=' ', header=None)\n",
    "\n",
    "X_train, y_train = df_train.iloc[:, :-1], df_train.iloc[:, -1]\n",
    "X_test, y_test = df_test.iloc[:, :-1], df_test.iloc[:, -1]"
   ]
  },
  {
   "cell_type": "markdown",
   "metadata": {},
   "source": [
    "### Random OverSampling"
   ]
  },
  {
   "cell_type": "code",
   "execution_count": 17,
   "metadata": {},
   "outputs": [],
   "source": [
    "ros = RandomOverSampler(random_state=42)\n",
    "X_ros, y_ros = ros.fit_resample(X_train, y_train)"
   ]
  },
  {
   "cell_type": "markdown",
   "metadata": {},
   "source": [
    "### SMOTE"
   ]
  },
  {
   "cell_type": "code",
   "execution_count": 23,
   "metadata": {
    "scrolled": true
   },
   "outputs": [],
   "source": [
    "smote = SMOTE(random_state=42)\n",
    "X_smt, y_smt = smote.fit_resample(X_train, y_train)"
   ]
  },
  {
   "cell_type": "markdown",
   "metadata": {},
   "source": [
    "### Z-Score"
   ]
  },
  {
   "cell_type": "code",
   "execution_count": 24,
   "metadata": {},
   "outputs": [
    {
     "data": {
      "text/plain": [
       "StandardScaler(copy=True, with_mean=True, with_std=True)"
      ]
     },
     "execution_count": 24,
     "metadata": {},
     "output_type": "execute_result"
    }
   ],
   "source": [
    "scaler = StandardScaler()\n",
    "scaler.fit(X_train)"
   ]
  },
  {
   "cell_type": "markdown",
   "metadata": {},
   "source": [
    "### Save"
   ]
  },
  {
   "cell_type": "code",
   "execution_count": 33,
   "metadata": {},
   "outputs": [
    {
     "name": "stderr",
     "output_type": "stream",
     "text": [
      "/home/demenezes/.local/lib/python3.6/site-packages/ipykernel_launcher.py:13: FutureWarning: The signature of `Series.to_csv` was aligned to that of `DataFrame.to_csv`, and argument 'header' will change its default value from False to True: please pass an explicit value to suppress this warning.\n",
      "  del sys.path[0]\n"
     ]
    }
   ],
   "source": [
    "# save Scaler\n",
    "joblib.dump(scaler, './data/preprocessamento/zscaler.pkl') \n",
    "\n",
    "# save models\n",
    "np.savetxt('./data/preprocessamento/X_rox', X_ros, delimiter=' ')\n",
    "np.savetxt('./data/preprocessamento/y_rox', y_ros, delimiter=' ')\n",
    "\n",
    "np.savetxt('./data/preprocessamento/X_smt', X_smt, delimiter=' ')\n",
    "np.savetxt('./data/preprocessamento/y_smt', y_smt, delimiter=' ')\n",
    "\n",
    "### test data\n",
    "X_test.to_csv('./data/preprocessamento/X_test', header=None, sep=' ')\n",
    "y_test.to_csv('./data/preprocessamento/y_test', header=None, sep=' ')"
   ]
  }
 ],
 "metadata": {
  "kernelspec": {
   "display_name": "Python 3",
   "language": "python",
   "name": "python3"
  },
  "language_info": {
   "codemirror_mode": {
    "name": "ipython",
    "version": 3
   },
   "file_extension": ".py",
   "mimetype": "text/x-python",
   "name": "python",
   "nbconvert_exporter": "python",
   "pygments_lexer": "ipython3",
   "version": "3.6.8"
  }
 },
 "nbformat": 4,
 "nbformat_minor": 2
}
