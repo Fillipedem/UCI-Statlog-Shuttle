{
 "cells": [
  {
   "cell_type": "code",
   "execution_count": 2,
   "metadata": {},
   "outputs": [],
   "source": [
    "import numpy as np\n",
    "import pandas as pd\n",
    "\n",
    "# scale\n",
    "from sklearn.preprocessing import StandardScaler\n",
    "\n",
    "# model selectiion\n",
    "from sklearn.model_selection import StratifiedKFold, cross_val_score\n",
    "\n",
    "# rf\n",
    "from sklearn.ensemble import RandomForestClassifier\n",
    "# mlp\n",
    "from sklearn.neural_network import MLPClassifier\n",
    "\n",
    "# metrics\n",
    "from sklearn.metrics import accuracy_score, classification_report\n",
    "\n",
    "# load/save models\n",
    "from sklearn.externals import joblib\n",
    "\n",
    "# signed wilcoxon test\n",
    "from scipy.stats import wilcoxon"
   ]
  },
  {
   "cell_type": "code",
   "execution_count": 4,
   "metadata": {},
   "outputs": [],
   "source": [
    "# plot\n",
    "import matplotlib.pyplot as plt\n",
    "import seaborn as sns\n",
    "\n",
    "plt.rcParams['figure.figsize'] = [15, 10]\n",
    "plt.rcParams.update({'font.size': 22})\n",
    "fontdict = {'fontsize': 18,\n",
    "           'weight' : 'bold'}\n",
    "palette = palette=['green','orange','brown','blue', 'red', 'black', 'yellow']\n",
    "sns.set()"
   ]
  },
  {
   "cell_type": "markdown",
   "metadata": {},
   "source": [
    "### load data"
   ]
  },
  {
   "cell_type": "code",
   "execution_count": 5,
   "metadata": {},
   "outputs": [],
   "source": [
    "# save Scaler\n",
    "scaler = joblib.load('./data/preprocessamento/zscaler.pkl') \n",
    "\n",
    "# save models\n",
    "X_ros = np.genfromtxt('./data/preprocessamento/X_rox', delimiter=' ')\n",
    "y_ros = np.genfromtxt('./data/preprocessamento/y_rox', delimiter=' ')\n",
    "\n",
    "X_smt = np.genfromtxt('./data/preprocessamento/X_smt', delimiter=' ')\n",
    "y_smt = np.genfromtxt('./data/preprocessamento/y_smt', delimiter=' ')\n",
    "\n",
    "### test data\n",
    "X_test = pd.read_csv('./data/preprocessamento/X_test', header=None, sep=' ')\n",
    "y_test = pd.read_csv('./data/preprocessamento/y_test', header=None, sep=' ')"
   ]
  },
  {
   "cell_type": "markdown",
   "metadata": {},
   "source": [
    "### Gerando as medias"
   ]
  },
  {
   "cell_type": "code",
   "execution_count": null,
   "metadata": {
    "scrolled": true
   },
   "outputs": [
    {
     "name": "stdout",
     "output_type": "stream",
     "text": [
      "Conjunto:  0\n",
      "{'mlp': [], 'rf': []}\n",
      "RF\n",
      "MLP\n",
      "{'mlp': [0.9996481699894757], 'rf': [0.9999790568894322]}\n",
      "Conjunto:  1\n",
      "{'mlp': [0.9996481699894757], 'rf': [0.9999790568894322]}\n",
      "RF\n"
     ]
    }
   ],
   "source": [
    "means = {'mlp': [], 'rf': []}\n",
    "X_train_scl, X_test_scl = scaler.transform(X_ros), scaler.transform(X_test)\n",
    "\n",
    "for i in range(10):\n",
    "    print(\"Conjunto: \", i)\n",
    "    print(means)\n",
    "    # clfs\n",
    "    mlp = MLPClassifier(activation='relu', solver='adam', early_stopping=True, \n",
    "                        max_iter=200, batch_size=16, validation_fraction=0.1,\n",
    "                        hidden_layer_sizes=(100))\n",
    "    rf = RandomForestClassifier(n_estimators=10 , criterion='gini')\n",
    "    # kfold\n",
    "    random_state = np.random.randint(2000)\n",
    "    kfold = StratifiedKFold(n_splits=10, shuffle=True, random_state=random_state)\n",
    "    \n",
    "    print('RF')\n",
    "    means['rf'].append(cross_val_score(rf, X_train_scl, y_ros, cv=kfold).mean())\n",
    "    print('MLP')\n",
    "    means['mlp'].append(cross_val_score(mlp, X_ros, y_ros, cv=kfold, n_jobs=2).mean())\n",
    "    print(means)"
   ]
  },
  {
   "cell_type": "markdown",
   "metadata": {},
   "source": [
    "### Wilcoxon Test"
   ]
  },
  {
   "cell_type": "code",
   "execution_count": null,
   "metadata": {},
   "outputs": [],
   "source": [
    "wilcoxon(rf_mean, mlp_mean)"
   ]
  },
  {
   "cell_type": "markdown",
   "metadata": {},
   "source": [
    "### Acuracia - Boxplot"
   ]
  },
  {
   "cell_type": "code",
   "execution_count": null,
   "metadata": {},
   "outputs": [],
   "source": [
    "sns.boxplot(rf_mean, mlp_mean)"
   ]
  }
 ],
 "metadata": {
  "kernelspec": {
   "display_name": "Python 3",
   "language": "python",
   "name": "python3"
  },
  "language_info": {
   "codemirror_mode": {
    "name": "ipython",
    "version": 3
   },
   "file_extension": ".py",
   "mimetype": "text/x-python",
   "name": "python",
   "nbconvert_exporter": "python",
   "pygments_lexer": "ipython3",
   "version": "3.6.8"
  }
 },
 "nbformat": 4,
 "nbformat_minor": 2
}
